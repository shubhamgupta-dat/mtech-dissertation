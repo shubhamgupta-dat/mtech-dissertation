{
 "cells": [
  {
   "cell_type": "code",
   "execution_count": 2,
   "metadata": {},
   "outputs": [],
   "source": [
    "from dotenv import load_dotenv\n",
    "from pathlib import Path\n",
    "import os\n",
    "\n",
    "ROOT_DIR = Path().parent.parent\n",
    "ENV_PATH = ROOT_DIR / \".env\"\n",
    "load_dotenv(dotenv_path=ENV_PATH)\n",
    "\n",
    "model_config = {\n",
    "    \"model\": \"gpt-4o\",\n",
    "    \"api_key\": os.getenv(\"AZURE_OPENAI_API_KEY\"),\n",
    "    \"base_url\": os.getenv(\"AZURE_OPENAI_ENDPOINT\"),\n",
    "    \"api_type\": \"azure\",\n",
    "    \"api_version\": os.getenv(\"OPENAI_API_VERSION\"),\n",
    "}"
   ]
  },
  {
   "cell_type": "code",
   "execution_count": 7,
   "metadata": {},
   "outputs": [],
   "source": [
    "from autogen import ConversableAgent\n",
    "\n",
    "andy = ConversableAgent(\n",
    "    \"andy_etl_expert\",\n",
    "    system_message=\"\"\"You are a helpful assistant who understands healthcare data and healthcare ETL well. \n",
    "    You need to help the user with Data Matching with the OMOP Healthcare schema. \n",
    "    You are required to provide output in a format such that incoming source schema table and column combinations matches with OMOP target table and column combination.\"\"\",\n",
    "    llm_config={\"config_list\": [model_config]},\n",
    "    code_execution_config=False,  # Turn off code execution, by default it is off.\n",
    "    function_map=None,  # No registered functions, by default it is None.\n",
    "    human_input_mode=\"NEVER\",  # Never ask for human input.\n",
    ")"
   ]
  },
  {
   "cell_type": "code",
   "execution_count": 8,
   "metadata": {},
   "outputs": [
    {
     "name": "stdout",
     "output_type": "stream",
     "text": [
      "In the OMOP (Observational Medical Outcomes Partnership) Common Data Model (CDM), information about patients is typically stored in the `person` table. Below is the mapping for the given columns from the source `demographic` table to the OMOP target `person` table:\n",
      "\n",
      "| Source Table       | Source Column        | Target Table | Target Column |\n",
      "|--------------------|----------------------|--------------|---------------|\n",
      "| demographic        | patient_member_id    | person       | person_id     |\n",
      "| demographic        | patient_Date_of_birth| person       | birth_datetime|\n",
      "\n",
      "### Explanation:\n",
      "- **patient_member_id** from the source `demographic` table is mapped to the **person_id** in the OMOP `person` table. This assumes `patient_member_id` serves as a unique identifier for each patient in the source system.\n",
      "- **patient_Date_of_birth** from the source `demographic` table is mapped to **birth_datetime** in the OMOP `person` table, representing the patient's date of birth.\n",
      "\n",
      "Make sure to adjust the source table and column names if they are different. Proper ETL (Extract, Transform, Load) processes should be applied to ensure the data types and values align correctly with the OMOP CDM standards.\n"
     ]
    }
   ],
   "source": [
    "reply = andy.generate_reply(\n",
    "    messages=[\n",
    "        {\n",
    "            \"content\": \"What is mapping for patient_member_id and patent_Date_of_birth column from demographic table?\",\n",
    "            \"role\": \"user\",\n",
    "        }\n",
    "    ]\n",
    ")\n",
    "print(reply)"
   ]
  },
  {
   "cell_type": "code",
   "execution_count": null,
   "metadata": {},
   "outputs": [],
   "source": []
  }
 ],
 "metadata": {
  "kernelspec": {
   "display_name": "dissertation",
   "language": "python",
   "name": "python3"
  },
  "language_info": {
   "codemirror_mode": {
    "name": "ipython",
    "version": 3
   },
   "file_extension": ".py",
   "mimetype": "text/x-python",
   "name": "python",
   "nbconvert_exporter": "python",
   "pygments_lexer": "ipython3",
   "version": "3.12.4"
  }
 },
 "nbformat": 4,
 "nbformat_minor": 2
}
