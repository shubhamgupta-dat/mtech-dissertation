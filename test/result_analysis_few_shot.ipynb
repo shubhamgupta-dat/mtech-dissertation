{
 "cells": [
  {
   "cell_type": "code",
   "execution_count": 38,
   "metadata": {},
   "outputs": [],
   "source": [
    "import pandas as pd\n",
    "from auto_matcher.utils import reduce_and_add_match\n",
    "\n",
    "\n",
    "FP_ZERO_SHOT_RESULTS = \"../playground/few_shot_ops_gpt_4o.csv\"\n",
    "FP_HISTORICAL_MATCHING = \"../historical_data/all_to_OMOP_Mapping.csv\""
   ]
  },
  {
   "cell_type": "code",
   "execution_count": 39,
   "metadata": {},
   "outputs": [],
   "source": [
    "df_history = pd.read_csv(FP_HISTORICAL_MATCHING)\n",
    "df_pred = pd.read_csv(FP_ZERO_SHOT_RESULTS)"
   ]
  },
  {
   "cell_type": "code",
   "execution_count": 40,
   "metadata": {},
   "outputs": [
    {
     "data": {
      "text/html": [
       "<div>\n",
       "<style scoped>\n",
       "    .dataframe tbody tr th:only-of-type {\n",
       "        vertical-align: middle;\n",
       "    }\n",
       "\n",
       "    .dataframe tbody tr th {\n",
       "        vertical-align: top;\n",
       "    }\n",
       "\n",
       "    .dataframe thead th {\n",
       "        text-align: right;\n",
       "    }\n",
       "</style>\n",
       "<table border=\"1\" class=\"dataframe\">\n",
       "  <thead>\n",
       "    <tr style=\"text-align: right;\">\n",
       "      <th></th>\n",
       "      <th>source_table</th>\n",
       "      <th>source_column</th>\n",
       "      <th>target_table</th>\n",
       "      <th>target_column</th>\n",
       "    </tr>\n",
       "  </thead>\n",
       "  <tbody>\n",
       "    <tr>\n",
       "      <th>0</th>\n",
       "      <td>ADMISSIONS</td>\n",
       "      <td>SUBJECT_ID</td>\n",
       "      <td>VISIT_OCCURRENCE</td>\n",
       "      <td>person_id</td>\n",
       "    </tr>\n",
       "    <tr>\n",
       "      <th>1</th>\n",
       "      <td>ADMISSIONS</td>\n",
       "      <td>HADM_ID</td>\n",
       "      <td>VISIT_OCCURRENCE</td>\n",
       "      <td>visit_occurrence_id</td>\n",
       "    </tr>\n",
       "    <tr>\n",
       "      <th>2</th>\n",
       "      <td>ADMISSIONS</td>\n",
       "      <td>ADMITTIME</td>\n",
       "      <td>VISIT_OCCURRENCE</td>\n",
       "      <td>visit_start_datetime</td>\n",
       "    </tr>\n",
       "    <tr>\n",
       "      <th>3</th>\n",
       "      <td>ADMISSIONS</td>\n",
       "      <td>DISCHTIME</td>\n",
       "      <td>VISIT_OCCURRENCE</td>\n",
       "      <td>visit_end_datetime</td>\n",
       "    </tr>\n",
       "    <tr>\n",
       "      <th>4</th>\n",
       "      <td>ADMISSIONS</td>\n",
       "      <td>DEATHTIME</td>\n",
       "      <td>NaN</td>\n",
       "      <td>NaN</td>\n",
       "    </tr>\n",
       "  </tbody>\n",
       "</table>\n",
       "</div>"
      ],
      "text/plain": [
       "  source_table source_column      target_table         target_column\n",
       "0   ADMISSIONS    SUBJECT_ID  VISIT_OCCURRENCE             person_id\n",
       "1   ADMISSIONS       HADM_ID  VISIT_OCCURRENCE   visit_occurrence_id\n",
       "2   ADMISSIONS     ADMITTIME  VISIT_OCCURRENCE  visit_start_datetime\n",
       "3   ADMISSIONS     DISCHTIME  VISIT_OCCURRENCE    visit_end_datetime\n",
       "4   ADMISSIONS     DEATHTIME               NaN                   NaN"
      ]
     },
     "execution_count": 40,
     "metadata": {},
     "output_type": "execute_result"
    }
   ],
   "source": [
    "df_history.head()"
   ]
  },
  {
   "cell_type": "code",
   "execution_count": 42,
   "metadata": {},
   "outputs": [
    {
     "data": {
      "text/html": [
       "<div>\n",
       "<style scoped>\n",
       "    .dataframe tbody tr th:only-of-type {\n",
       "        vertical-align: middle;\n",
       "    }\n",
       "\n",
       "    .dataframe tbody tr th {\n",
       "        vertical-align: top;\n",
       "    }\n",
       "\n",
       "    .dataframe thead th {\n",
       "        text-align: right;\n",
       "    }\n",
       "</style>\n",
       "<table border=\"1\" class=\"dataframe\">\n",
       "  <thead>\n",
       "    <tr style=\"text-align: right;\">\n",
       "      <th></th>\n",
       "      <th>source_table</th>\n",
       "      <th>source_column</th>\n",
       "      <th>target_table_pred</th>\n",
       "      <th>target_table_column_pred</th>\n",
       "      <th>n_shots</th>\n",
       "    </tr>\n",
       "  </thead>\n",
       "  <tbody>\n",
       "    <tr>\n",
       "      <th>0</th>\n",
       "      <td>ADMISSIONS</td>\n",
       "      <td>SUBJECT_ID</td>\n",
       "      <td>person</td>\n",
       "      <td>person_id</td>\n",
       "      <td>1</td>\n",
       "    </tr>\n",
       "    <tr>\n",
       "      <th>1</th>\n",
       "      <td>ADMISSIONS</td>\n",
       "      <td>HADM_ID</td>\n",
       "      <td>visit_occurrence</td>\n",
       "      <td>visit_occurrence_id</td>\n",
       "      <td>1</td>\n",
       "    </tr>\n",
       "    <tr>\n",
       "      <th>2</th>\n",
       "      <td>ADMISSIONS</td>\n",
       "      <td>ADMITTIME</td>\n",
       "      <td>visit_occurrence</td>\n",
       "      <td>visit_start_datetime</td>\n",
       "      <td>1</td>\n",
       "    </tr>\n",
       "    <tr>\n",
       "      <th>3</th>\n",
       "      <td>ADMISSIONS</td>\n",
       "      <td>DISCHTIME</td>\n",
       "      <td>visit_occurrence</td>\n",
       "      <td>visit_end_datetime</td>\n",
       "      <td>1</td>\n",
       "    </tr>\n",
       "    <tr>\n",
       "      <th>4</th>\n",
       "      <td>ADMISSIONS</td>\n",
       "      <td>DEATHTIME</td>\n",
       "      <td>death</td>\n",
       "      <td>death_datetime</td>\n",
       "      <td>1</td>\n",
       "    </tr>\n",
       "  </tbody>\n",
       "</table>\n",
       "</div>"
      ],
      "text/plain": [
       "  source_table source_column target_table_pred target_table_column_pred  \\\n",
       "0   ADMISSIONS    SUBJECT_ID            person                person_id   \n",
       "1   ADMISSIONS       HADM_ID  visit_occurrence      visit_occurrence_id   \n",
       "2   ADMISSIONS     ADMITTIME  visit_occurrence     visit_start_datetime   \n",
       "3   ADMISSIONS     DISCHTIME  visit_occurrence       visit_end_datetime   \n",
       "4   ADMISSIONS     DEATHTIME             death           death_datetime   \n",
       "\n",
       "   n_shots  \n",
       "0        1  \n",
       "1        1  \n",
       "2        1  \n",
       "3        1  \n",
       "4        1  "
      ]
     },
     "execution_count": 42,
     "metadata": {},
     "output_type": "execute_result"
    }
   ],
   "source": [
    "df_pred.head()"
   ]
  },
  {
   "cell_type": "code",
   "execution_count": 43,
   "metadata": {},
   "outputs": [],
   "source": [
    "df_temp = df_pred[df_pred.n_shots == n_shot]\n",
    "del df_temp[\"n_shots\"]"
   ]
  },
  {
   "cell_type": "code",
   "execution_count": 44,
   "metadata": {},
   "outputs": [
    {
     "name": "stderr",
     "output_type": "stream",
     "text": [
      "\u001b[32m2024-09-04 11:30:25.263\u001b[0m | \u001b[32m\u001b[1mSUCCESS \u001b[0m | \u001b[36mauto_matcher.utils\u001b[0m:\u001b[36mreduce_and_add_match\u001b[0m:\u001b[36m126\u001b[0m - \u001b[32m\u001b[1mValueCounts for Types:{'Type2': 238, 'Type5': 181, 'Type1': 84}\u001b[0m\n",
      "\u001b[32m2024-09-04 11:30:25.272\u001b[0m | \u001b[32m\u001b[1mSUCCESS \u001b[0m | \u001b[36mauto_matcher.utils\u001b[0m:\u001b[36mreduce_and_add_match\u001b[0m:\u001b[36m126\u001b[0m - \u001b[32m\u001b[1mValueCounts for Types:{'Type2': 257, 'Type5': 181, 'Type1': 65}\u001b[0m\n",
      "\u001b[32m2024-09-04 11:30:25.279\u001b[0m | \u001b[32m\u001b[1mSUCCESS \u001b[0m | \u001b[36mauto_matcher.utils\u001b[0m:\u001b[36mreduce_and_add_match\u001b[0m:\u001b[36m126\u001b[0m - \u001b[32m\u001b[1mValueCounts for Types:{'Type2': 232, 'Type5': 181, 'Type1': 90}\u001b[0m\n",
      "\u001b[32m2024-09-04 11:30:25.295\u001b[0m | \u001b[32m\u001b[1mSUCCESS \u001b[0m | \u001b[36mauto_matcher.utils\u001b[0m:\u001b[36mreduce_and_add_match\u001b[0m:\u001b[36m126\u001b[0m - \u001b[32m\u001b[1mValueCounts for Types:{'Type2': 216, 'Type5': 181, 'Type1': 106}\u001b[0m\n",
      "\u001b[32m2024-09-04 11:30:25.301\u001b[0m | \u001b[32m\u001b[1mSUCCESS \u001b[0m | \u001b[36mauto_matcher.utils\u001b[0m:\u001b[36mreduce_and_add_match\u001b[0m:\u001b[36m126\u001b[0m - \u001b[32m\u001b[1mValueCounts for Types:{'Type2': 214, 'Type5': 181, 'Type1': 108}\u001b[0m\n",
      "\u001b[32m2024-09-04 11:30:25.307\u001b[0m | \u001b[32m\u001b[1mSUCCESS \u001b[0m | \u001b[36mauto_matcher.utils\u001b[0m:\u001b[36mreduce_and_add_match\u001b[0m:\u001b[36m126\u001b[0m - \u001b[32m\u001b[1mValueCounts for Types:{'Type2': 215, 'Type5': 181, 'Type1': 107}\u001b[0m\n",
      "\u001b[32m2024-09-04 11:30:25.312\u001b[0m | \u001b[32m\u001b[1mSUCCESS \u001b[0m | \u001b[36mauto_matcher.utils\u001b[0m:\u001b[36mreduce_and_add_match\u001b[0m:\u001b[36m126\u001b[0m - \u001b[32m\u001b[1mValueCounts for Types:{'Type2': 208, 'Type5': 181, 'Type1': 114}\u001b[0m\n",
      "\u001b[32m2024-09-04 11:30:25.319\u001b[0m | \u001b[32m\u001b[1mSUCCESS \u001b[0m | \u001b[36mauto_matcher.utils\u001b[0m:\u001b[36mreduce_and_add_match\u001b[0m:\u001b[36m126\u001b[0m - \u001b[32m\u001b[1mValueCounts for Types:{'Type2': 208, 'Type5': 181, 'Type1': 114}\u001b[0m\n",
      "\u001b[32m2024-09-04 11:30:25.325\u001b[0m | \u001b[32m\u001b[1mSUCCESS \u001b[0m | \u001b[36mauto_matcher.utils\u001b[0m:\u001b[36mreduce_and_add_match\u001b[0m:\u001b[36m126\u001b[0m - \u001b[32m\u001b[1mValueCounts for Types:{'Type2': 210, 'Type5': 181, 'Type1': 112}\u001b[0m\n",
      "\u001b[32m2024-09-04 11:30:25.330\u001b[0m | \u001b[32m\u001b[1mSUCCESS \u001b[0m | \u001b[36mauto_matcher.utils\u001b[0m:\u001b[36mreduce_and_add_match\u001b[0m:\u001b[36m126\u001b[0m - \u001b[32m\u001b[1mValueCounts for Types:{'Type2': 196, 'Type5': 181, 'Type1': 126}\u001b[0m\n"
     ]
    }
   ],
   "source": [
    "dict_op = dict()\n",
    "for n_shot in range(1, max(df_pred.n_shots) + 1):\n",
    "    df_temp = df_pred[df_pred.n_shots == n_shot]\n",
    "    del df_temp[\"n_shots\"]\n",
    "    df_history.columns = [\n",
    "        \"source_table\",\n",
    "        \"source_column\",\n",
    "        \"target_table_true\",\n",
    "        \"target_column_true\",\n",
    "    ]\n",
    "    df_temp.columns = [\n",
    "        \"source_table\",\n",
    "        \"source_column\",\n",
    "        \"target_table_pred\",\n",
    "        \"target_column_pred\",\n",
    "    ]\n",
    "    df_match = df_history.merge(\n",
    "        df_temp,\n",
    "        on=[\"source_table\", \"source_column\"],\n",
    "        how=\"left\",\n",
    "        suffixes=(\"_true\", \"_pred\"),\n",
    "    ).fillna(\"none\")\n",
    "    df_output = reduce_and_add_match(df_match, with_confidence=False)\n",
    "    dict_op[n_shot] = sum(df_output.match_type == \"Type1\")"
   ]
  },
  {
   "cell_type": "code",
   "execution_count": 45,
   "metadata": {},
   "outputs": [
    {
     "data": {
      "text/plain": [
       "Text(0.5, 0, 'Number of Shots')"
      ]
     },
     "execution_count": 45,
     "metadata": {},
     "output_type": "execute_result"
    },
    {
     "data": {
      "image/png": "[encoded data removed]",
      "text/plain": [
       "<Figure size 640x480 with 1 Axes>"
      ]
     },
     "metadata": {},
     "output_type": "display_data"
    }
   ],
   "source": [
    "import matplotlib.pyplot as plt\n",
    "\n",
    "pd.Series(dict_op).plot()\n",
    "plt.ylabel(\"Type1 value\")\n",
    "plt.xlabel(\"Number of Shots\")"
   ]
  }
 ],
 "metadata": {
  "kernelspec": {
   "display_name": "dissertation",
   "language": "python",
   "name": "python3"
  },
  "language_info": {
   "codemirror_mode": {
    "name": "ipython",
    "version": 3
   },
   "file_extension": ".py",
   "mimetype": "text/x-python",
   "name": "python",
   "nbconvert_exporter": "python",
   "pygments_lexer": "ipython3",
   "version": "3.12.4"
  }
 },
 "nbformat": 4,
 "nbformat_minor": 2
}
