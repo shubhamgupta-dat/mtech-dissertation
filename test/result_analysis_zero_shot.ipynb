{
 "cells": [
  {
   "cell_type": "code",
   "execution_count": 1,
   "metadata": {},
   "outputs": [],
   "source": [
    "import pandas as pd\n",
    "from auto_matcher.utils import reduce_and_add_match\n",
    "\n",
    "\n",
    "FP_ZERO_SHOT_RESULTS = \"../playground/zero_shot_ops.csv\"\n",
    "FP_HISTORICAL_MATCHING = \"../historical_data/all_to_OMOP_Mapping.csv\""
   ]
  },
  {
   "cell_type": "code",
   "execution_count": 2,
   "metadata": {},
   "outputs": [],
   "source": [
    "df_history = pd.read_csv(FP_HISTORICAL_MATCHING)\n",
    "df_pred = pd.read_csv(FP_ZERO_SHOT_RESULTS)"
   ]
  },
  {
   "cell_type": "code",
   "execution_count": 3,
   "metadata": {},
   "outputs": [
    {
     "data": {
      "text/html": [
       "<div>\n",
       "<style scoped>\n",
       "    .dataframe tbody tr th:only-of-type {\n",
       "        vertical-align: middle;\n",
       "    }\n",
       "\n",
       "    .dataframe tbody tr th {\n",
       "        vertical-align: top;\n",
       "    }\n",
       "\n",
       "    .dataframe thead th {\n",
       "        text-align: right;\n",
       "    }\n",
       "</style>\n",
       "<table border=\"1\" class=\"dataframe\">\n",
       "  <thead>\n",
       "    <tr style=\"text-align: right;\">\n",
       "      <th></th>\n",
       "      <th>source_table</th>\n",
       "      <th>source_column</th>\n",
       "      <th>target_table</th>\n",
       "      <th>target_column</th>\n",
       "    </tr>\n",
       "  </thead>\n",
       "  <tbody>\n",
       "    <tr>\n",
       "      <th>0</th>\n",
       "      <td>ADMISSIONS</td>\n",
       "      <td>SUBJECT_ID</td>\n",
       "      <td>VISIT_OCCURRENCE</td>\n",
       "      <td>person_id</td>\n",
       "    </tr>\n",
       "    <tr>\n",
       "      <th>1</th>\n",
       "      <td>ADMISSIONS</td>\n",
       "      <td>HADM_ID</td>\n",
       "      <td>VISIT_OCCURRENCE</td>\n",
       "      <td>visit_occurrence_id</td>\n",
       "    </tr>\n",
       "    <tr>\n",
       "      <th>2</th>\n",
       "      <td>ADMISSIONS</td>\n",
       "      <td>ADMITTIME</td>\n",
       "      <td>VISIT_OCCURRENCE</td>\n",
       "      <td>visit_start_datetime</td>\n",
       "    </tr>\n",
       "    <tr>\n",
       "      <th>3</th>\n",
       "      <td>ADMISSIONS</td>\n",
       "      <td>DISCHTIME</td>\n",
       "      <td>VISIT_OCCURRENCE</td>\n",
       "      <td>visit_end_datetime</td>\n",
       "    </tr>\n",
       "    <tr>\n",
       "      <th>4</th>\n",
       "      <td>ADMISSIONS</td>\n",
       "      <td>DEATHTIME</td>\n",
       "      <td>NaN</td>\n",
       "      <td>NaN</td>\n",
       "    </tr>\n",
       "  </tbody>\n",
       "</table>\n",
       "</div>"
      ],
      "text/plain": [
       "  source_table source_column      target_table         target_column\n",
       "0   ADMISSIONS    SUBJECT_ID  VISIT_OCCURRENCE             person_id\n",
       "1   ADMISSIONS       HADM_ID  VISIT_OCCURRENCE   visit_occurrence_id\n",
       "2   ADMISSIONS     ADMITTIME  VISIT_OCCURRENCE  visit_start_datetime\n",
       "3   ADMISSIONS     DISCHTIME  VISIT_OCCURRENCE    visit_end_datetime\n",
       "4   ADMISSIONS     DEATHTIME               NaN                   NaN"
      ]
     },
     "execution_count": 3,
     "metadata": {},
     "output_type": "execute_result"
    }
   ],
   "source": [
    "df_history.head()"
   ]
  },
  {
   "cell_type": "code",
   "execution_count": 4,
   "metadata": {},
   "outputs": [
    {
     "data": {
      "text/html": [
       "<div>\n",
       "<style scoped>\n",
       "    .dataframe tbody tr th:only-of-type {\n",
       "        vertical-align: middle;\n",
       "    }\n",
       "\n",
       "    .dataframe tbody tr th {\n",
       "        vertical-align: top;\n",
       "    }\n",
       "\n",
       "    .dataframe thead th {\n",
       "        text-align: right;\n",
       "    }\n",
       "</style>\n",
       "<table border=\"1\" class=\"dataframe\">\n",
       "  <thead>\n",
       "    <tr style=\"text-align: right;\">\n",
       "      <th></th>\n",
       "      <th>source_table</th>\n",
       "      <th>source_column</th>\n",
       "      <th>target_table_pred</th>\n",
       "      <th>target_table_column_pred</th>\n",
       "    </tr>\n",
       "  </thead>\n",
       "  <tbody>\n",
       "    <tr>\n",
       "      <th>0</th>\n",
       "      <td>ADMISSIONS</td>\n",
       "      <td>SUBJECT_ID</td>\n",
       "      <td>person</td>\n",
       "      <td>person_id</td>\n",
       "    </tr>\n",
       "    <tr>\n",
       "      <th>1</th>\n",
       "      <td>ADMISSIONS</td>\n",
       "      <td>HADM_ID</td>\n",
       "      <td>visit_occurrence</td>\n",
       "      <td>visit_occurrence_id</td>\n",
       "    </tr>\n",
       "    <tr>\n",
       "      <th>2</th>\n",
       "      <td>ADMISSIONS</td>\n",
       "      <td>ADMITTIME</td>\n",
       "      <td>VISIT_OCCURRENCE</td>\n",
       "      <td>visit_start_datetime</td>\n",
       "    </tr>\n",
       "    <tr>\n",
       "      <th>3</th>\n",
       "      <td>ADMISSIONS</td>\n",
       "      <td>DISCHTIME</td>\n",
       "      <td>VISIT_OCCURRENCE</td>\n",
       "      <td>visit_end_datetime</td>\n",
       "    </tr>\n",
       "    <tr>\n",
       "      <th>4</th>\n",
       "      <td>ADMISSIONS</td>\n",
       "      <td>DEATHTIME</td>\n",
       "      <td>DEATH</td>\n",
       "      <td>death_datetime</td>\n",
       "    </tr>\n",
       "  </tbody>\n",
       "</table>\n",
       "</div>"
      ],
      "text/plain": [
       "  source_table source_column target_table_pred target_table_column_pred\n",
       "0   ADMISSIONS    SUBJECT_ID            person                person_id\n",
       "1   ADMISSIONS       HADM_ID  visit_occurrence      visit_occurrence_id\n",
       "2   ADMISSIONS     ADMITTIME  VISIT_OCCURRENCE     visit_start_datetime\n",
       "3   ADMISSIONS     DISCHTIME  VISIT_OCCURRENCE       visit_end_datetime\n",
       "4   ADMISSIONS     DEATHTIME           DEATH             death_datetime"
      ]
     },
     "execution_count": 4,
     "metadata": {},
     "output_type": "execute_result"
    }
   ],
   "source": [
    "df_pred.head()"
   ]
  },
  {
   "cell_type": "code",
   "execution_count": 5,
   "metadata": {},
   "outputs": [],
   "source": [
    "df_history.columns = [\n",
    "    \"source_table\",\n",
    "    \"source_column\",\n",
    "    \"target_table_true\",\n",
    "    \"target_column_true\",\n",
    "]\n",
    "df_pred.columns = [\n",
    "    \"source_table\",\n",
    "    \"source_column\",\n",
    "    \"target_table_pred\",\n",
    "    \"target_column_pred\",\n",
    "]\n",
    "df_match = df_history.merge(\n",
    "    df_pred,\n",
    "    on=[\"source_table\", \"source_column\"],\n",
    "    how=\"left\",\n",
    "    suffixes=(\"_true\", \"_pred\"),\n",
    ").fillna(\"none\")"
   ]
  },
  {
   "cell_type": "code",
   "execution_count": 6,
   "metadata": {},
   "outputs": [
    {
     "data": {
      "text/html": [
       "<div>\n",
       "<style scoped>\n",
       "    .dataframe tbody tr th:only-of-type {\n",
       "        vertical-align: middle;\n",
       "    }\n",
       "\n",
       "    .dataframe tbody tr th {\n",
       "        vertical-align: top;\n",
       "    }\n",
       "\n",
       "    .dataframe thead th {\n",
       "        text-align: right;\n",
       "    }\n",
       "</style>\n",
       "<table border=\"1\" class=\"dataframe\">\n",
       "  <thead>\n",
       "    <tr style=\"text-align: right;\">\n",
       "      <th></th>\n",
       "      <th>source_table</th>\n",
       "      <th>source_column</th>\n",
       "      <th>target_table_true</th>\n",
       "      <th>target_column_true</th>\n",
       "      <th>target_table_pred</th>\n",
       "      <th>target_column_pred</th>\n",
       "    </tr>\n",
       "  </thead>\n",
       "  <tbody>\n",
       "    <tr>\n",
       "      <th>0</th>\n",
       "      <td>ADMISSIONS</td>\n",
       "      <td>SUBJECT_ID</td>\n",
       "      <td>VISIT_OCCURRENCE</td>\n",
       "      <td>person_id</td>\n",
       "      <td>person</td>\n",
       "      <td>person_id</td>\n",
       "    </tr>\n",
       "    <tr>\n",
       "      <th>1</th>\n",
       "      <td>ADMISSIONS</td>\n",
       "      <td>HADM_ID</td>\n",
       "      <td>VISIT_OCCURRENCE</td>\n",
       "      <td>visit_occurrence_id</td>\n",
       "      <td>visit_occurrence</td>\n",
       "      <td>visit_occurrence_id</td>\n",
       "    </tr>\n",
       "    <tr>\n",
       "      <th>2</th>\n",
       "      <td>ADMISSIONS</td>\n",
       "      <td>ADMITTIME</td>\n",
       "      <td>VISIT_OCCURRENCE</td>\n",
       "      <td>visit_start_datetime</td>\n",
       "      <td>VISIT_OCCURRENCE</td>\n",
       "      <td>visit_start_datetime</td>\n",
       "    </tr>\n",
       "    <tr>\n",
       "      <th>3</th>\n",
       "      <td>ADMISSIONS</td>\n",
       "      <td>DISCHTIME</td>\n",
       "      <td>VISIT_OCCURRENCE</td>\n",
       "      <td>visit_end_datetime</td>\n",
       "      <td>VISIT_OCCURRENCE</td>\n",
       "      <td>visit_end_datetime</td>\n",
       "    </tr>\n",
       "    <tr>\n",
       "      <th>4</th>\n",
       "      <td>ADMISSIONS</td>\n",
       "      <td>DEATHTIME</td>\n",
       "      <td>none</td>\n",
       "      <td>none</td>\n",
       "      <td>DEATH</td>\n",
       "      <td>death_datetime</td>\n",
       "    </tr>\n",
       "  </tbody>\n",
       "</table>\n",
       "</div>"
      ],
      "text/plain": [
       "  source_table source_column target_table_true    target_column_true  \\\n",
       "0   ADMISSIONS    SUBJECT_ID  VISIT_OCCURRENCE             person_id   \n",
       "1   ADMISSIONS       HADM_ID  VISIT_OCCURRENCE   visit_occurrence_id   \n",
       "2   ADMISSIONS     ADMITTIME  VISIT_OCCURRENCE  visit_start_datetime   \n",
       "3   ADMISSIONS     DISCHTIME  VISIT_OCCURRENCE    visit_end_datetime   \n",
       "4   ADMISSIONS     DEATHTIME              none                  none   \n",
       "\n",
       "  target_table_pred    target_column_pred  \n",
       "0            person             person_id  \n",
       "1  visit_occurrence   visit_occurrence_id  \n",
       "2  VISIT_OCCURRENCE  visit_start_datetime  \n",
       "3  VISIT_OCCURRENCE    visit_end_datetime  \n",
       "4           DEATH          death_datetime  "
      ]
     },
     "execution_count": 6,
     "metadata": {},
     "output_type": "execute_result"
    }
   ],
   "source": [
    "df_match.head()"
   ]
  },
  {
   "cell_type": "code",
   "execution_count": 7,
   "metadata": {},
   "outputs": [
    {
     "name": "stderr",
     "output_type": "stream",
     "text": [
      "\u001b[32m2024-09-03 08:59:22.560\u001b[0m | \u001b[32m\u001b[1mSUCCESS \u001b[0m | \u001b[36mauto_matcher.utils\u001b[0m:\u001b[36mreduce_and_add_match\u001b[0m:\u001b[36m126\u001b[0m - \u001b[32m\u001b[1mValueCounts for Types:{'Type2': 194, 'Type5': 138, 'Type1': 92, 'Type4': 43, 'Type3': 36}\u001b[0m\n"
     ]
    }
   ],
   "source": [
    "df_ouput = reduce_and_add_match(df_match, with_confidence=False)"
   ]
  },
  {
   "cell_type": "code",
   "execution_count": 12,
   "metadata": {},
   "outputs": [
    {
     "data": {
      "text/plain": [
       "match_type\n",
       "Type1     92\n",
       "Type2    194\n",
       "Type3     36\n",
       "Type4     43\n",
       "Type5    138\n",
       "Name: count, dtype: int64"
      ]
     },
     "execution_count": 12,
     "metadata": {},
     "output_type": "execute_result"
    }
   ],
   "source": [
    "df_ouput.match_type.value_counts().sort_index()"
   ]
  },
  {
   "cell_type": "code",
   "execution_count": null,
   "metadata": {},
   "outputs": [],
   "source": []
  }
 ],
 "metadata": {
  "kernelspec": {
   "display_name": "dissertation",
   "language": "python",
   "name": "python3"
  },
  "language_info": {
   "codemirror_mode": {
    "name": "ipython",
    "version": 3
   },
   "file_extension": ".py",
   "mimetype": "text/x-python",
   "name": "python",
   "nbconvert_exporter": "python",
   "pygments_lexer": "ipython3",
   "version": "3.12.4"
  }
 },
 "nbformat": 4,
 "nbformat_minor": 2
}
